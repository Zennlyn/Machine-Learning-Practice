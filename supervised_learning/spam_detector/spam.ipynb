{
 "cells": [
  {
   "cell_type": "markdown",
   "id": "0ad50573-61b5-47b4-bac0-916cdf227237",
   "metadata": {},
   "source": [
    "# Spam Classifier"
   ]
  },
  {
   "cell_type": "markdown",
   "id": "253e849d-e450-49c2-a060-bcb8f01e4ee2",
   "metadata": {},
   "source": [
    "## Download the Data"
   ]
  },
  {
   "cell_type": "code",
   "execution_count": 1,
   "id": "55315144-7d50-4ed0-a89d-4f6373d17c09",
   "metadata": {},
   "outputs": [],
   "source": [
    "from pathlib import Path\n",
    "import tarfile\n",
    "import urllib.request\n",
    "\n",
    "def fetch_spam_data():\n",
    "    spam_root = \"https://spamassassin.apache.org/old/publiccorpus/\"\n",
    "    ham_url = spam_root + \"20030228_easy_ham.tar.bz2\"\n",
    "    spam_url = spam_root + \"20030228_spam.tar.bz2\"\n",
    "\n",
    "    spam_path = Path() / \"data\" / \"spam\"\n",
    "    spam_path.mkdir(parents=True, exist_ok=True)\n",
    "    for dir_name, tar_name, url in ((\"easy_ham\", \"ham\", ham_url), (\"spam\", \"spam\", spam_url)):\n",
    "        if not (spam_path / dir_name).is_dir():\n",
    "            path = (spam_path / tar_name).with_suffix(\".tar_bz2\")\n",
    "            urllib.request.urlretrieve(url, path)\n",
    "            tar_bz2_file = tarfile.open(path)\n",
    "            tar_bz2_file.extractall(path=spam_path)\n",
    "            tar_bz2_file.close()\n",
    "    return [spam_path / dir_name for dir_name in (\"easy_ham\", \"spam\")]"
   ]
  },
  {
   "cell_type": "code",
   "execution_count": 2,
   "id": "d69b042d-a177-452b-a57c-400e23bb7a52",
   "metadata": {},
   "outputs": [],
   "source": [
    "ham_dir, spam_dir = fetch_spam_data()"
   ]
  },
  {
   "cell_type": "code",
   "execution_count": 3,
   "id": "42ddaf15-f171-4dd6-80f1-46619fd7ee03",
   "metadata": {},
   "outputs": [
    {
     "data": {
      "text/plain": [
       "WindowsPath('data/spam/easy_ham')"
      ]
     },
     "execution_count": 3,
     "metadata": {},
     "output_type": "execute_result"
    }
   ],
   "source": [
    "ham_dir"
   ]
  },
  {
   "cell_type": "markdown",
   "id": "0bf4ba49-2af0-4435-bdea-d9b966fa8057",
   "metadata": {},
   "source": [
    "`iterdir()` iterates over the file in the directory"
   ]
  },
  {
   "cell_type": "code",
   "execution_count": 4,
   "id": "ed09b659-aa9a-4ff9-a508-12467376cf01",
   "metadata": {},
   "outputs": [],
   "source": [
    "ham_filenames = [f for f in sorted(ham_dir.iterdir()) if len(f.name) > 20]\n",
    "spam_filenames = [f for f in sorted(spam_dir.iterdir()) if len(f.name) > 20]"
   ]
  },
  {
   "cell_type": "code",
   "execution_count": 5,
   "id": "cd8da51f-2bf5-4e10-a038-125f459f23c2",
   "metadata": {},
   "outputs": [
    {
     "data": {
      "text/plain": [
       "(2500, 500)"
      ]
     },
     "execution_count": 5,
     "metadata": {},
     "output_type": "execute_result"
    }
   ],
   "source": [
    "len(ham_filenames), len(spam_filenames)"
   ]
  },
  {
   "cell_type": "markdown",
   "id": "f8c0dcb3-1bd3-4730-9f11-4247d61d0cad",
   "metadata": {},
   "source": [
    "## Parsing the emails"
   ]
  },
  {
   "cell_type": "markdown",
   "id": "ef950588-0096-4d8a-b2bf-a9b85a330900",
   "metadata": {},
   "source": [
    "Using Python's `email` module to parse these emails"
   ]
  },
  {
   "cell_type": "code",
   "execution_count": 6,
   "id": "eea48e3c-64e5-4306-a86c-a4f3a14b85bc",
   "metadata": {},
   "outputs": [],
   "source": [
    "import email\n",
    "import email.policy\n",
    "\n",
    "def load_email(filepath):\n",
    "    with open(filepath, \"rb\") as f:\n",
    "        return email.parser.BytesParser(policy=email.policy.default).parse(f)"
   ]
  },
  {
   "cell_type": "code",
   "execution_count": 7,
   "id": "bf4a4c9c-f233-402b-a717-84e0225c10fc",
   "metadata": {},
   "outputs": [],
   "source": [
    "ham_emails = [load_email(filepath) for filepath in ham_filenames]\n",
    "spam_emails = [load_email(filepath) for filepath in spam_filenames]"
   ]
  },
  {
   "cell_type": "code",
   "execution_count": 8,
   "id": "45586db7-00d1-42aa-a79d-de5d3c33b8e2",
   "metadata": {
    "scrolled": true
   },
   "outputs": [
    {
     "name": "stdout",
     "output_type": "stream",
     "text": [
      "Martin A posted:\n",
      "Tassos Papadopoulos, the Greek sculptor behind the plan, judged that the\n",
      " limestone of Mount Kerdylio, 70 miles east of Salonika and not far from the\n",
      " Mount Athos monastic community, was ideal for the patriotic sculpture. \n",
      " \n",
      " As well as Alexander's granite features, 240 ft high and 170 ft wide, a\n",
      " museum, a restored amphitheatre and car park for admiring crowds are\n",
      "planned\n",
      "---------------------\n",
      "So is this mountain limestone or granite?\n",
      "If it's limestone, it'll weather pretty fast.\n",
      "\n",
      "------------------------ Yahoo! Groups Sponsor ---------------------~-->\n",
      "4 DVDs Free +s&p Join Now\n",
      "http://us.click.yahoo.com/pt6YBB/NXiEAA/mG3HAA/7gSolB/TM\n",
      "---------------------------------------------------------------------~->\n",
      "\n",
      "To unsubscribe from this group, send an email to:\n",
      "forteana-unsubscribe@egroups.com\n",
      "\n",
      " \n",
      "\n",
      "Your use of Yahoo! Groups is subject to http://docs.yahoo.com/info/terms/\n"
     ]
    }
   ],
   "source": [
    "print(ham_emails[1].get_content().strip())"
   ]
  },
  {
   "cell_type": "code",
   "execution_count": 9,
   "id": "14bc379a-5990-453d-b82a-eddc20439186",
   "metadata": {
    "scrolled": true
   },
   "outputs": [
    {
     "name": "stdout",
     "output_type": "stream",
     "text": [
      "<html>\n",
      "<head>\n",
      "<title>ReliaQuote - Save Up To 70% On Life Insurance</title>\n",
      "<meta http-equiv=\"Content-Type\" content=\"text/html; charset=iso-8859-1\">\n",
      "</head>\n",
      "<body leftmargin=\"0\" topmargin=\"0\" link=\"#FFCC99\" vlink=\"#FFCC99\" alink=\"#FFCC00\">\n",
      "<table align=\"center\" width=\"468\" border=\"0\" cellspacing=\"0\" cellpadding=\"0\" height=\"500\" bgcolor=\"993366\">\n",
      "  <tr>\n",
      "    <td align=\"left\" valign=\"top\" height=\"43\" width=\"56%\">\n",
      "      <table width=\"100%\" border=\"0\" cellspacing=\"0\" cellpadding=\"3\">\n",
      "        <tr>\n",
      "          <td><a href=\"http://theadmanager.com/server/c.asp?ad_key=YUESBHWAKMLK&ext=1\" target=\"_blank\"><img src=\"http://www.reliaquote.com/banner/bannerads/images/logo6.gif\" width=\"120\" height=\"32\" border=\"0\"></a></td>\n",
      "        </tr>\n",
      "      </table>\n",
      "    </td>\n",
      "    <td align=\"left\" valign=\"top\" height=\"43\" width=\"44%\">&nbsp;</td>\n",
      "  </tr>\n",
      "  <tr>\n",
      "    <td align=\"left\" valign=\"top\" width=\"56%\" height=\"377\">\n",
      "      <table width=\"100%\" border=\"0\" cellspacing=\"0\" cellpadding=\"0\">\n",
      "        <tr align=\"right\" valign=\"top\" bgcolor=\"#FFCCFF\">\n",
      "          <td height=\"2\"><img src=\"http://www.reliaquote.com/banner/bannerads/images/headline6.gif\" width=\"220\" height=\"72\"></td>\n",
      "        </tr>\n",
      "        <tr align=\"center\" valign=\"top\" bgcolor=\"336699\">\n",
      "          <td height=\"2\">\n",
      "            <table width=\"100%\" border=\"0\" cellspacing=\"0\" cellpadding=\"0\">\n",
      "              <tr align=\"center\" valign=\"top\">\n",
      "                <td height=\"32\">\n",
      "                  <table width=\"100%\" border=\"0\" cellspacing=\"0\" cellpadding=\"0\">\n",
      "                    <tr align=\"left\" valign=\"top\">\n",
      "                      <td height=\"34\">\n",
      "                        <table width=\"100%\" border=\"0\" cellspacing=\"8\" cellpadding=\"0\" bgcolor=\"#993366\">\n",
      "                          <tr align=\"center\" valign=\"top\">\n",
      "                            <td height=\"45\">\n",
      "                              <p><font color=\"#FFCC00\" face=\"Tahoma, Verdana, Arial\" size=\"2\"><b>Life\n",
      "                                can change in an instant. That's why it is so\n",
      "                                important to protect your family's financial future\n",
      "                                with sufficient life insurance coverage.</b></font></p>\n",
      "                            </td>\n",
      "                          </tr>\n",
      "                        </table>\n",
      "                      </td>\n",
      "                    </tr>\n",
      "                  </table>\n",
      "                </td>\n",
      "              </tr>\n",
      "            </table>\n",
      "          </td>\n",
      "        </tr>\n",
      "        <tr bgcolor=\"#FFCC00\" align=\"center\" valign=\"middle\">\n",
      "          <td height=\"27\"><font size=\"1\"><b><img src=\"http://www.reliaquote.com/banner/bannerads/images/freequotes6.gif\" width=\"177\" height=\"24\"></b></font></td>\n",
      "        </tr>\n",
      "        <tr align=\"left\" valign=\"top\" bgcolor=\"#3366CC\">\n",
      "          <td height=\"294\">\n",
      "            <form name=FreeQuoteForm ACTION=\"http://www.reliaquote.com/termlife/cgi-bin/banner_quote_resp.asp\" METHOD=\"get\">\n",
      " <input type=hidden value=51100004022000000321 name=sourceid>\n",
      "              <table class=hptbcolor cellspacing=0 cellpadding=2 width=\"100%\"\n",
      "        border=0>\n",
      "                <tbody>\n",
      "                <tr>\n",
      "                  <td width=\"100%\">\n",
      "                    <table cellspacing=4 cellpadding=0 width=\"100%\" border=0>\n",
      "                      <tbody>\n",
      "                      <tr>\n",
      "                        <td class=content width=\"35%\"><font size=\"1\" face=\"Tahoma, Verdana, Arial\" color=\"#FFFFFF\"><strong>State\n",
      "                          of Residence:</strong></font></td>\n",
      "                        <td class=content width=\"65%\" align=\"left\" valign=\"middle\">\n",
      "                          <font face=\"Tahoma, Verdana, Arial\">\n",
      "                          <select id=FormsComboBox12\n",
      "                  size=1 name=state>\n",
      "                            <option value=\"\" selected>Select State</option>\n",
      "                            <option value=Alabama>Alabama</option>\n",
      "                            <option value=Alaska>Alaska</option>\n",
      "                            <option\n",
      "                    value=Arizona>Arizona</option>\n",
      "                            <option\n",
      "                    value=Arkansas>Arkansas</option>\n",
      "                            <option\n",
      "                    value=California>California</option>\n",
      "                            <option\n",
      "                    value=Colorado>Colorado</option>\n",
      "                            <option\n",
      "                    value=Connecticut>Connecticut</option>\n",
      "                            <option\n",
      "                    value=Delaware>Delaware</option>\n",
      "                            <option value=DC>Dist. of Columbia</option>\n",
      "                            <option value=Florida>Florida</option>\n",
      "                            <option value=Georgia>Georgia</option>\n",
      "                            <option\n",
      "                    value=Hawaii>Hawaii</option>\n",
      "                            <option\n",
      "                    value=Idaho>Idaho</option>\n",
      "                            <option\n",
      "                    value=Illinois>Illinois</option>\n",
      "                            <option\n",
      "                    value=Indiana>Indiana</option>\n",
      "                            <option\n",
      "                    value=Iowa>Iowa</option>\n",
      "                            <option\n",
      "                    value=Kansas>Kansas</option>\n",
      "                            <option\n",
      "                    value=Kentucky>Kentucky</option>\n",
      "                            <option\n",
      "                    value=Louisiana>Louisiana</option>\n",
      "                            <option\n",
      "                    value=Maine>Maine</option>\n",
      "                            <option\n",
      "                    value=Maryland>Maryland</option>\n",
      "                            <option\n",
      "                    value=Massachusetts>Massachusetts</option>\n",
      "                            <option\n",
      "                    value=Michigan>Michigan</option>\n",
      "                            <option\n",
      "                    value=Minnesota>Minnesota</option>\n",
      "                            <option\n",
      "                    value=Mississippi>Mississippi</option>\n",
      "                            <option\n",
      "                    value=Missouri>Missouri</option>\n",
      "                            <option\n",
      "                    value=Montana>Montana</option>\n",
      "                            <option\n",
      "                    value=Nebraska>Nebraska</option>\n",
      "                            <option\n",
      "                    value=Nevada>Nevada</option>\n",
      "                            <option\n",
      "                    value=\"New Hampshire\">New Hampshire</option>\n",
      "                            <option\n",
      "                    value=\"New Jersey\">New Jersey</option>\n",
      "                            <option\n",
      "                    value=\"New Mexico\">New Mexico</option>\n",
      "                            <option\n",
      "                    value=\"New York\">New York</option>\n",
      "                            <option\n",
      "                    value=\"North Carolina\">North Carolina</option>\n",
      "                            <option\n",
      "                    value=\"North Dakota\">North Dakota</option>\n",
      "                            <option\n",
      "                    value=Ohio>Ohio</option>\n",
      "                            <option\n",
      "                    value=Oklahoma>Oklahoma</option>\n",
      "                            <option\n",
      "                    value=Oregon>Oregon</option>\n",
      "                            <option\n",
      "                    value=Pennsylvania>Pennsylvania</option>\n",
      "                            <option\n",
      "                    value=\"Rhode Island\">Rhode Island</option>\n",
      "                            <option\n",
      "                    value=\"South Carolina\">South Carolina</option>\n",
      "                            <option\n",
      "                    value=\"South Dakota\">South Dakota</option>\n",
      "                            <option\n",
      "                    value=Tennessee>Tennessee</option>\n",
      "                            <option\n",
      "                    value=Texas>Texas</option>\n",
      "                            <option value=Utah>Utah</option>\n",
      "                            <option value=Vermont>Vermont</option>\n",
      "                            <option\n",
      "                    value=Virginia>Virginia</option>\n",
      "                            <option\n",
      "                    value=Washington>Washington</option>\n",
      "                            <option\n",
      "                    value=\"West Virginia\">West Virginia</option>\n",
      "                            <option\n",
      "                    value=Wisconsin>Wisconsin</option>\n",
      "                            <option\n",
      "                    value=Wyoming>Wyoming</option>\n",
      "                          </select>\n",
      "                          </font></td>\n",
      "                      </tr>\n",
      "                      <tr>\n",
      "                        <td class=content width=\"35%\"><font size=\"1\" face=\"Tahoma, Verdana, Arial\" color=\"#FFFFFF\"><strong>Date\n",
      "                          of Birth (MM/DD/YY):</strong></font></td>\n",
      "                        <td noWrap width=\"65%\" align=\"left\" valign=\"middle\"> <font face=\"Tahoma, Verdana, Arial\">\n",
      "                          <select size=1 name=MM>\n",
      "                            <option\n",
      "                    value=\"\" selected>MM</option>\n",
      "                            <option value=01>01</option>\n",
      "                            <option value=02>02</option>\n",
      "                            <option value=03>03</option>\n",
      "                            <option value=04>04</option>\n",
      "                            <option value=05>05</option>\n",
      "                            <option value=06>06</option>\n",
      "                            <option value=07>07</option>\n",
      "                            <option value=08>08</option>\n",
      "                            <option value=09>09</option>\n",
      "                            <option value=10>10</option>\n",
      "                            <option value=11>11</option>\n",
      "                            <option value=12>12</option>\n",
      "                          </select>\n",
      "                          /\n",
      "                          <select size=1 name=DD>\n",
      "                            <option value=\"\" selected>DD</option>\n",
      "                            <option\n",
      "                    value=01>01</option>\n",
      "                            <option value=02>02</option>\n",
      "                            <option\n",
      "                    value=03>03</option>\n",
      "                            <option value=04>04</option>\n",
      "                            <option\n",
      "                    value=05>05</option>\n",
      "                            <option value=06>06</option>\n",
      "                            <option\n",
      "                    value=07>07</option>\n",
      "                            <option value=08>08</option>\n",
      "                            <option\n",
      "                    value=09>09</option>\n",
      "                            <option value=10>10</option>\n",
      "                            <option\n",
      "                    value=11>11</option>\n",
      "                            <option value=12>12</option>\n",
      "                            <option\n",
      "                    value=13>13</option>\n",
      "                            <option value=14>14</option>\n",
      "                            <option\n",
      "                    value=15>15</option>\n",
      "                            <option value=16>16</option>\n",
      "                            <option\n",
      "                    value=17>17</option>\n",
      "                            <option value=18>18</option>\n",
      "                            <option\n",
      "                    value=19>19</option>\n",
      "                            <option value=20>20</option>\n",
      "                            <option\n",
      "                    value=21>21</option>\n",
      "                            <option value=22>22</option>\n",
      "                            <option\n",
      "                    value=23>23</option>\n",
      "                            <option value=24>24</option>\n",
      "                            <option\n",
      "                    value=25>25</option>\n",
      "                            <option value=26>26</option>\n",
      "                            <option\n",
      "                    value=27>27</option>\n",
      "                            <option value=28>28</option>\n",
      "                            <option\n",
      "                    value=29>29</option>\n",
      "                            <option value=30>30</option>\n",
      "                            <option\n",
      "                    value=31>31</option>\n",
      "                          </select>\n",
      "                          /\n",
      "                          <select size=1 name=YY>\n",
      "                            <option value=\"\" selected>YY</option>\n",
      "                            <option\n",
      "                    value=13>13</option>\n",
      "                            <option value=14>14</option>\n",
      "                            <option\n",
      "                    value=15>15</option>\n",
      "                            <option value=16>16</option>\n",
      "                            <option\n",
      "                    value=17>17</option>\n",
      "                            <option value=18>18</option>\n",
      "                            <option\n",
      "                    value=19>19</option>\n",
      "                            <option value=20>20</option>\n",
      "                            <option\n",
      "                    value=21>21</option>\n",
      "                            <option value=22>22</option>\n",
      "                            <option\n",
      "                    value=23>23</option>\n",
      "                            <option value=24>24</option>\n",
      "                            <option\n",
      "                    value=25>25</option>\n",
      "                            <option value=26>26</option>\n",
      "                            <option\n",
      "                    value=27>27</option>\n",
      "                            <option value=28>28</option>\n",
      "                            <option\n",
      "                    value=29>29</option>\n",
      "                            <option value=30>30</option>\n",
      "                            <option\n",
      "                    value=31>31</option>\n",
      "                            <option value=32>32</option>\n",
      "                            <option\n",
      "                    value=33>33</option>\n",
      "                            <option value=34>34</option>\n",
      "                            <option\n",
      "                    value=35>35</option>\n",
      "                            <option value=36>36</option>\n",
      "                            <option\n",
      "                    value=37>37</option>\n",
      "                            <option value=38>38</option>\n",
      "                            <option\n",
      "                    value=39>39</option>\n",
      "                            <option value=40>40</option>\n",
      "                            <option\n",
      "                    value=41>41</option>\n",
      "                            <option value=42>42</option>\n",
      "                            <option\n",
      "                    value=43>43</option>\n",
      "                            <option value=44>44</option>\n",
      "                            <option\n",
      "                    value=45>45</option>\n",
      "                            <option value=46>46</option>\n",
      "                            <option\n",
      "                    value=47>47</option>\n",
      "                            <option value=48>48</option>\n",
      "                            <option\n",
      "                    value=49>49</option>\n",
      "                            <option value=50>50</option>\n",
      "                            <option\n",
      "                    value=51>51</option>\n",
      "                            <option value=52>52</option>\n",
      "                            <option\n",
      "                    value=53>53</option>\n",
      "                            <option value=54>54</option>\n",
      "                            <option\n",
      "                    value=55>55</option>\n",
      "                            <option value=56>56</option>\n",
      "                            <option\n",
      "                    value=57>57</option>\n",
      "                            <option value=58>58</option>\n",
      "                            <option\n",
      "                    value=59>59</option>\n",
      "                            <option value=60>60</option>\n",
      "                            <option\n",
      "                    value=61>61</option>\n",
      "                            <option value=62>62</option>\n",
      "                            <option\n",
      "                    value=63>63</option>\n",
      "                            <option value=64>64</option>\n",
      "                            <option\n",
      "                    value=65>65</option>\n",
      "                            <option value=66>66</option>\n",
      "                            <option\n",
      "                    value=67>67</option>\n",
      "                            <option value=68>68</option>\n",
      "                            <option\n",
      "                    value=69>69</option>\n",
      "                            <option value=70>70</option>\n",
      "                            <option\n",
      "                    value=71>71</option>\n",
      "                            <option value=72>72</option>\n",
      "                            <option\n",
      "                    value=73>73</option>\n",
      "                            <option value=74>74</option>\n",
      "                            <option\n",
      "                    value=75>75</option>\n",
      "                            <option value=76>76</option>\n",
      "                            <option\n",
      "                    value=77>77</option>\n",
      "                            <option value=78>78</option>\n",
      "                            <option\n",
      "                    value=79>79</option>\n",
      "                            <option value=80>80</option>\n",
      "                            <option\n",
      "                    value=81>81</option>\n",
      "                            <option value=82>82</option>\n",
      "                            <option\n",
      "                    value=83>83</option>\n",
      "                                          <option\n",
      "                    value=84>84</option>\n",
      "                          </select>\n",
      "                          </font></td>\n",
      "                      </tr>\n",
      "                      <tr>\n",
      "                        <td class=content width=\"35%\"><font size=\"1\" face=\"Tahoma, Verdana, Arial\" color=\"#FFFFFF\"><strong>Sex:</strong></font></td>\n",
      "                        <td noWrap width=\"65%\" align=\"left\" valign=\"middle\">\n",
      "                          <table cellspacing=0 width=\"100%\" border=0>\n",
      "                            <tbody>\n",
      "                            <tr>\n",
      "                              <td width=\"50%\"> <font color=\"#FFFFFF\" size=\"1\" face=\"Tahoma, Verdana, Arial\"><b>\n",
      "                                <input id=FormsRadioButton1 type=radio\n",
      "                        value=M name=Sex>\n",
      "                                Male</b></font></td>\n",
      "                              <td width=\"50%\"> <font color=\"#FFFFFF\" size=\"1\" face=\"Tahoma, Verdana, Arial\"><b>\n",
      "                                <input id=FormsRadioButton2 type=radio\n",
      "                        value=F name=Sex>\n",
      "                                Female</b></font></td>\n",
      "                            </tr>\n",
      "                            </tbody>\n",
      "                          </table>\n",
      "                        </td>\n",
      "                      </tr>\n",
      "                      <tr>\n",
      "                        <td class=content width=\"35%\"><font size=\"1\" face=\"Tahoma, Verdana, Arial\" color=\"#FFFFFF\"><strong>Have\n",
      "                          you used any tobacco products in the last 12 months?</strong></font></td>\n",
      "                        <td noWrap width=\"65%\" align=\"left\" valign=\"middle\">\n",
      "                          <table cellspacing=0 width=\"100%\" border=0>\n",
      "                            <tbody>\n",
      "                            <tr>\n",
      "                              <td width=\"50%\"> <b><font size=\"1\" face=\"Tahoma, Verdana, Arial\" color=\"#FFFFFF\">\n",
      "                                <input id=FormsRadioButton4 type=radio\n",
      "                        value=N name=Tobacco>\n",
      "                                No</font></b></td>\n",
      "                              <td width=\"50%\"> <b><font size=\"1\" face=\"Tahoma, Verdana, Arial\" color=\"#FFFFFF\">\n",
      "                                <input id=FormsRadioButton3 type=radio\n",
      "                        value=Y name=Tobacco>\n",
      "                                Yes</font></b></td>\n",
      "                            </tr>\n",
      "                            </tbody>\n",
      "                          </table>\n",
      "                        </td>\n",
      "                      </tr>\n",
      "                      <tr>\n",
      "                        <td class=content width=\"35%\"><font size=\"1\" face=\"Tahoma, Verdana, Arial\" color=\"#FFFFFF\"><strong>Coverage\n",
      "                          Amount:</strong></font></td>\n",
      "                        <td class=content width=\"65%\" align=\"left\" valign=\"middle\">\n",
      "                          <font face=\"Tahoma, Verdana, Arial\">\n",
      "                          <select id=FormsComboBox11\n",
      "                  size=1 name=coverage-amount>\n",
      "                            <option value=\"\"\n",
      "                    selected>Select Amount</option>\n",
      "                            <option\n",
      "                    value=100000.00>100,000</option>\n",
      "                            <option\n",
      "                    value=125000.00>125,000</option>\n",
      "                            <option\n",
      "                    value=150000.00>150,000</option>\n",
      "                            <option\n",
      "                    value=175000.00>175,000</option>\n",
      "                            <option\n",
      "                    value=200000.00>200,000</option>\n",
      "                            <option\n",
      "                    value=225000.00>225,000</option>\n",
      "                            <option\n",
      "                    value=250000.00>250,000</option>\n",
      "                            <option\n",
      "                    value=275000.00>275,000</option>\n",
      "                            <option\n",
      "                    value=300000.00>300,000</option>\n",
      "                            <option\n",
      "                    value=325000.00>325,000</option>\n",
      "                            <option\n",
      "                    value=350000.00>350,000</option>\n",
      "                            <option\n",
      "                    value=375000.00>375,000</option>\n",
      "                            <option\n",
      "                    value=400000.00>400,000</option>\n",
      "                            <option\n",
      "                    value=425000.00>425,000</option>\n",
      "                            <option\n",
      "                    value=450000.00>450,000</option>\n",
      "                            <option\n",
      "                    value=475000.00>475,000</option>\n",
      "                            <option\n",
      "                    value=500000.00>500,000</option>\n",
      "                            <option\n",
      "                    value=550000.00>550,000</option>\n",
      "                            <option\n",
      "                    value=600000.00>600,000</option>\n",
      "                            <option\n",
      "                    value=650000.00>650,000</option>\n",
      "                            <option\n",
      "                    value=700000.00>700,000</option>\n",
      "                            <option\n",
      "                    value=750000.00>750,000</option>\n",
      "                            <option\n",
      "                    value=800000.00>800,000</option>\n",
      "                            <option\n",
      "                    value=850000.00>850,000</option>\n",
      "                            <option\n",
      "                    value=900000.00>900,000</option>\n",
      "                            <option\n",
      "                    value=950000.00>950,000</option>\n",
      "                            <option\n",
      "                    value=1000000.00>1,000,000</option>\n",
      "                            <option\n",
      "                    value=1250000.00>1,250,000</option>\n",
      "                            <option\n",
      "                    value=1500000.00>1,500,000</option>\n",
      "                            <option\n",
      "                    value=1750000.00>1,750,000</option>\n",
      "                            <option\n",
      "                    value=2000000.00>2,000,000</option>\n",
      "                            <option\n",
      "                    value=2250000.00>2,250,000</option>\n",
      "                            <option\n",
      "                    value=2500000.00>2,500,000</option>\n",
      "                            <option\n",
      "                    value=3000000.00>3,000,000</option>\n",
      "                            <option\n",
      "                    value=3500000.00>3,500,000</option>\n",
      "                            <option\n",
      "                    value=4000000.00>4,000,000</option>\n",
      "                            <option\n",
      "                    value=4500000.00>4,500,000</option>\n",
      "                            <option\n",
      "                    value=5000000.00>5,000,000</option>\n",
      "                            <option\n",
      "                    value=6000000.00>6,000,000</option>\n",
      "                            <option\n",
      "                    value=7000000.00>7,000,000</option>\n",
      "                            <option\n",
      "                    value=8000000.00>8,000,000</option>\n",
      "                            <option\n",
      "                    value=9000000.00>9,000,000</option>\n",
      "                            <option\n",
      "                    value=10000000.00>10,000,000</option>\n",
      "                            <option\n",
      "                    value=11000000.00>11,000,000</option>\n",
      "                            <option\n",
      "                    value=12000000.00>12,000,000</option>\n",
      "                            <option\n",
      "                    value=13000000.00>13,000,000</option>\n",
      "                            <option\n",
      "                    value=14000000.00>14,000,000</option>\n",
      "                            <option\n",
      "                    value=15000000.00>15,000,000</option>\n",
      "                          </select>\n",
      "                          </font></td>\n",
      "                      </tr>\n",
      "                      <tr>\n",
      "                        <td class=content width=\"35%\"><font size=\"1\" face=\"Tahoma, Verdana, Arial\" color=\"#FFFFFF\"><strong>How\n",
      "                          long do you need the coverage?</strong></font></td>\n",
      "                        <td class=content width=\"65%\" align=\"left\" valign=\"middle\">\n",
      "                          <font face=\"Tahoma, Verdana, Arial\">\n",
      "                          <select id=FormsComboBox10\n",
      "                  size=1 name=plan>\n",
      "                            <option value=\"\" selected>Select Year</option>\n",
      "                            <option value=5>5 Years</option>\n",
      "                            <option\n",
      "                    value=10>10 Years</option>\n",
      "                            <option value=15>15 Years</option>\n",
      "                            <option value=20>20 Years</option>\n",
      "                            <option\n",
      "                    value=25>25 Years</option>\n",
      "                            <option value=30>30 Years</option>\n",
      "                          </select>\n",
      "                          </font></td>\n",
      "                      </tr>\n",
      "                      <tr>\n",
      "                        <td width=\"35%\" height=\"2\">&nbsp; </td>\n",
      "                        <td class=content align=left width=\"65%\" height=\"2\" valign=\"top\">\n",
      "                          <font face=\"Tahoma, Verdana, Arial\">\n",
      "                          <input id=FormsButton1 type=submit value=\"Get A Quote\" name=SubmitButton>\n",
      "                          </font></td>\n",
      "                      </tr>\n",
      "                      </tbody>\n",
      "                    </table>\n",
      "                  </td>\n",
      "                </tr>\n",
      "                </tbody>\n",
      "              </table>\n",
      "            </form>\n",
      "\n",
      "          </td>\n",
      "        </tr>\n",
      "      </table>\n",
      "    <td align=\"left\" valign=\"top\" width=\"44%\" height=\"377\"><a href=\"http://theadmanager.com/server/c.asp?ad_key=YUESBHWAKMLK&ext=1\" target=\"_blank\"><img src=\"http://www.reliaquote.com/banner/bannerads/images/photo6.jpg\" width=\"210\" height=\"173\" border=\"0\"></a><br>\n",
      "      <table width=\"100%\" border=\"0\" cellspacing=\"0\" cellpadding=\"0\">\n",
      "        <tr align=\"center\" valign=\"top\">\n",
      "          <td height=\"217\" nowrap>\n",
      "            <table width=\"100%\" border=\"0\" cellspacing=\"0\" cellpadding=\"10\">\n",
      "              <tr align=\"left\" valign=\"top\">\n",
      "                <td height=\"40\">\n",
      "                  <div align=\"center\"><font face=\"Tahoma, Verdana, Arial\" size=\"1\" color=\"#FFFFFF\"><b>ReliaQuote\n",
      "                    makes it easy and affordable. We can instantly provide you\n",
      "                    with free quotes from highly rated insurance companies. </b></font></div>\n",
      "                </td>\n",
      "              </tr>\n",
      "            </table>\n",
      "            <table width=\"100%\" border=\"0\" cellspacing=\"0\" cellpadding=\"0\">\n",
      "              <tr align=\"left\" valign=\"top\">\n",
      "                <td height=\"106\">\n",
      "                  <table width=\"100%\" border=\"0\" cellspacing=\"0\" cellpadding=\"0\">\n",
      "                    <tr align=\"center\" valign=\"top\">\n",
      "                      <td height=\"2\"><font face=\"Tahoma, Verdana, Arial\" size=\"3\" color=\"#FFFFFF\"><b>Save\n",
      "                        up to</b></font></td>\n",
      "                    </tr>\n",
      "                    <tr align=\"center\" valign=\"top\">\n",
      "                      <td height=\"36\"><a href=\"http://theadmanager.com/server/c.asp?ad_key=YUESBHWAKMLK&ext=1\" target=\"_blank\"><img src=\"http://www.reliaquote.com/banner/bannerads/images/70percent6.gif\" width=\"131\" height=\"57\" border=\"0\"></a></td>\n",
      "                    </tr>\n",
      "                    <tr align=\"center\" valign=\"top\">\n",
      "                      <td height=\"8\"><font face=\"Tahoma, Verdana, Arial\" size=\"3\" color=\"#FFFFFF\"><b>on\n",
      "                        Life Insurance</b></font></td>\n",
      "                    </tr>\n",
      "                  </table>\n",
      "                </td>\n",
      "              </tr>\n",
      "              <tr align=\"center\" valign=\"middle\">\n",
      "                <td height=\"67\"><font color=\"#FFCC33\" size=\"3\" face=\"Tahoma, Verdana, Arial\"><b><font color=\"#FFCC99\" size=\"2\"><a href=\"http://theadmanager.com/server/c.asp?ad_key=YUESBHWAKMLK&ext=1\" target=\"_blank\">\n",
      "                  <font color=\"#FFFFFF\">Compare quotes today</font></a><font color=\"#FFFFFF\">.</font></font><font face=\"Tahoma, Verdana, Arial\" size=\"2\" color=\"#0000FF\">\n",
      "                  </font><font face=\"Tahoma, Verdana, Arial\" size=\"2\" color=\"#FFCC00\"><br>\n",
      "                  There is nothing more <br>\n",
      "                  important than protecting <br>\n",
      "                  their future.<br>\n",
      "                  </font></b></font></td>\n",
      "              </tr>\n",
      "            </table>\n",
      "          </td>\n",
      "        </tr>\n",
      "      </table>\n",
      "      <div align=\"center\"><font color=\"#FFFFFF\" size=\"1\">Copyright 2001 ReliaQuote,\n",
      "        Inc.<br>\n",
      "        All rights reserved.</font></div>\n",
      "    </td>\n",
      "  </tr>\n",
      "</table>\n",
      "<img src=\"http://admanmail.com/server/t.asp?ad_key=YUESBHWAKMLK\" width=\"1\" height=\"1\" hspace=\"0\" vspace=\"0\" border=\"0\" alt=\"T\">\n",
      "<hr size=\"1\" noshade>\n",
      "<font face=\"Arial\" size=\"1\" color=\"#000000\">\n",
      "You are receiving this mailing because you are a\n",
      "member of SendGreatOffers.com and subscribed as:JM@NETNOTEINC.COM\n",
      "To unsubscribe <a href=\"http://admanmail.com/subscription.asp?em=JM@NETNOTEINC.COM&l=SGO\">\n",
      "<font face=\"arial\" size=\"1\" color=\"#000000\">Click Here</a>\n",
      "(http://admanmail.com/subscription.asp?em=JM@NETNOTEINC.COM&l=SGO)\n",
      "or reply to this email with REMOVE in the subject line - you must\n",
      "also include the body of this message to be unsubscribed. Any correspondence about\n",
      "the products/services should be directed to\n",
      "the company in the ad.\n",
      "%EM%JM@NETNOTEINC.COM%/EM%\n",
      "<BR></FONT> </body> </html>\n"
     ]
    }
   ],
   "source": [
    "print(spam_emails[7].get_content().strip())"
   ]
  },
  {
   "cell_type": "markdown",
   "id": "f5690348-b11b-4332-9def-7b5b94ba989f",
   "metadata": {},
   "source": [
    "There are some multipart emails in the data, which means it contains some attachments, i.e. PDF files and photos"
   ]
  },
  {
   "cell_type": "code",
   "execution_count": 10,
   "id": "18d8ca78-c731-46c2-8d6e-dc4b0ce561b9",
   "metadata": {},
   "outputs": [],
   "source": [
    "def get_email_structure(email):\n",
    "    if isinstance(email, str):\n",
    "        return email\n",
    "    payload = email.get_payload()\n",
    "    if isinstance(payload, list):\n",
    "        multipart = \", \".join([get_email_structure(sub_email) for sub_email in payload])\n",
    "        return f\"multipart({multipart})\"\n",
    "    else:\n",
    "        return email.get_content_type()"
   ]
  },
  {
   "cell_type": "code",
   "execution_count": 11,
   "id": "74226427-a729-421b-8ed4-cbfe8b9166a2",
   "metadata": {},
   "outputs": [],
   "source": [
    "from collections import Counter\n",
    "\n",
    "def structures_counter(emails):\n",
    "    structures = Counter()\n",
    "    for email in emails:\n",
    "        structure = get_email_structure(email)\n",
    "        structures[structure] += 1\n",
    "    return structures"
   ]
  },
  {
   "cell_type": "code",
   "execution_count": 12,
   "id": "0fd5e241-b519-48e3-9439-4695cb127a4a",
   "metadata": {
    "scrolled": true
   },
   "outputs": [
    {
     "data": {
      "text/plain": [
       "Counter({'text/plain': 2408,\n",
       "         'multipart(text/plain, application/pgp-signature)': 66,\n",
       "         'multipart(text/plain, text/html)': 8,\n",
       "         'multipart(text/plain, text/plain)': 4,\n",
       "         'multipart(text/plain)': 3,\n",
       "         'multipart(text/plain, application/octet-stream)': 2,\n",
       "         'multipart(text/plain, text/enriched)': 1,\n",
       "         'multipart(text/plain, application/ms-tnef, text/plain)': 1,\n",
       "         'multipart(multipart(text/plain, text/plain, text/plain), application/pgp-signature)': 1,\n",
       "         'multipart(text/plain, video/mng)': 1,\n",
       "         'multipart(text/plain, multipart(text/plain))': 1,\n",
       "         'multipart(text/plain, application/x-pkcs7-signature)': 1,\n",
       "         'multipart(text/plain, multipart(text/plain, text/plain), text/rfc822-headers)': 1,\n",
       "         'multipart(text/plain, multipart(text/plain, text/plain), multipart(multipart(text/plain, application/x-pkcs7-signature)))': 1,\n",
       "         'multipart(text/plain, application/x-java-applet)': 1})"
      ]
     },
     "execution_count": 12,
     "metadata": {},
     "output_type": "execute_result"
    }
   ],
   "source": [
    "structures_counter(ham_emails)"
   ]
  },
  {
   "cell_type": "code",
   "execution_count": 13,
   "id": "2520e7b8-1fb7-4496-ab2b-3365794683af",
   "metadata": {},
   "outputs": [
    {
     "data": {
      "text/plain": [
       "Counter({'text/plain': 218,\n",
       "         'text/html': 183,\n",
       "         'multipart(text/plain, text/html)': 45,\n",
       "         'multipart(text/html)': 20,\n",
       "         'multipart(text/plain)': 19,\n",
       "         'multipart(multipart(text/html))': 5,\n",
       "         'multipart(text/plain, image/jpeg)': 3,\n",
       "         'multipart(text/html, application/octet-stream)': 2,\n",
       "         'multipart(text/plain, application/octet-stream)': 1,\n",
       "         'multipart(text/html, text/plain)': 1,\n",
       "         'multipart(multipart(text/html), application/octet-stream, image/jpeg)': 1,\n",
       "         'multipart(multipart(text/plain, text/html), image/gif)': 1,\n",
       "         'multipart/alternative': 1})"
      ]
     },
     "execution_count": 13,
     "metadata": {},
     "output_type": "execute_result"
    }
   ],
   "source": [
    "structures_counter(spam_emails)"
   ]
  },
  {
   "cell_type": "markdown",
   "id": "8835d241-6c2e-4a3b-85a6-6f7751a27971",
   "metadata": {},
   "source": [
    "It seems that the ham emails are more often in plain text, while many spam are in HTML. Moreover, quite a few ham emails are signed using PGP, while no spam has it."
   ]
  },
  {
   "cell_type": "markdown",
   "id": "2335d505-5438-406b-bb42-30da0e0eb780",
   "metadata": {},
   "source": [
    "Take a look at the email's header"
   ]
  },
  {
   "cell_type": "code",
   "execution_count": 14,
   "id": "20f1c418-f660-49c4-b22b-0501c21b32d0",
   "metadata": {},
   "outputs": [
    {
     "name": "stdout",
     "output_type": "stream",
     "text": [
      "Return-Path: <12a1mailbot1@web.de>\n",
      "Delivered-To: zzzz@localhost.spamassassin.taint.org\n",
      "Received: from localhost (localhost [127.0.0.1])\tby phobos.labs.spamassassin.taint.org (Postfix) with ESMTP id 136B943C32\tfor <zzzz@localhost>; Thu, 22 Aug 2002 08:17:21 -0400 (EDT)\n",
      "Received: from mail.webnote.net [193.120.211.219]\tby localhost with POP3 (fetchmail-5.9.0)\tfor zzzz@localhost (single-drop); Thu, 22 Aug 2002 13:17:21 +0100 (IST)\n",
      "Received: from dd_it7 ([210.97.77.167])\tby webnote.net (8.9.3/8.9.3) with ESMTP id NAA04623\tfor <zzzz@spamassassin.taint.org>; Thu, 22 Aug 2002 13:09:41 +0100\n",
      "From: 12a1mailbot1@web.de\n",
      "Received: from r-smtp.korea.com - 203.122.2.197 by dd_it7  with Microsoft SMTPSVC(5.5.1775.675.6);\t Sat, 24 Aug 2002 09:42:10 +0900\n",
      "To: dcek1a1@netsgo.com\n",
      "Subject: Life Insurance - Why Pay More?\n",
      "Date: Wed, 21 Aug 2002 20:31:57 -1600\n",
      "MIME-Version: 1.0\n",
      "Message-ID: <0103c1042001882DD_IT7@dd_it7>\n",
      "Content-Type: text/html; charset=\"iso-8859-1\"\n",
      "Content-Transfer-Encoding: quoted-printable\n"
     ]
    }
   ],
   "source": [
    "for header, value in spam_emails[0].items():\n",
    "    print(header + \": \" + value)"
   ]
  },
  {
   "cell_type": "markdown",
   "id": "39dcb877-a18f-4c26-9950-2935c9a6e6ed",
   "metadata": {},
   "source": [
    "The sender's email address looks fishy"
   ]
  },
  {
   "cell_type": "code",
   "execution_count": 15,
   "id": "fcf2be97-4881-4f95-8b7a-ed8bedd181fd",
   "metadata": {},
   "outputs": [
    {
     "data": {
      "text/plain": [
       "'Life Insurance - Why Pay More?'"
      ]
     },
     "execution_count": 15,
     "metadata": {},
     "output_type": "execute_result"
    }
   ],
   "source": [
    "spam_emails[0][\"Subject\"]"
   ]
  },
  {
   "cell_type": "code",
   "execution_count": 16,
   "id": "d6ae5688-19eb-4731-bed0-3083ae6cb1cc",
   "metadata": {},
   "outputs": [],
   "source": [
    "import numpy as np\n",
    "from sklearn.model_selection import train_test_split\n",
    "\n",
    "X = np.array(ham_emails + spam_emails, dtype=object)\n",
    "y = np.array([0]*len(ham_emails) + [1]*len(spam_emails))\n",
    "\n",
    "X_train, X_test, y_train, y_test = train_test_split(X, y, test_size=0.2, random_state=42)"
   ]
  },
  {
   "cell_type": "markdown",
   "id": "96e9a3a1-1800-4886-a236-9d352c86747c",
   "metadata": {},
   "source": [
    "### Preparing the preprocessing process"
   ]
  },
  {
   "cell_type": "code",
   "execution_count": 17,
   "id": "5d193691-c3d0-4967-aa7a-86e826221814",
   "metadata": {},
   "outputs": [],
   "source": [
    "from bs4 import BeautifulSoup\n",
    "from html import unescape\n",
    "\n",
    "def html_to_plain_text(html):\n",
    "    return unescape(BeautifulSoup(html, \"html.parser\").get_text())"
   ]
  },
  {
   "cell_type": "code",
   "execution_count": 18,
   "id": "ee9ef75a-0d29-4ed1-810c-6a2f4f2c870d",
   "metadata": {},
   "outputs": [
    {
     "name": "stdout",
     "output_type": "stream",
     "text": [
      "\n",
      "\n",
      "\n",
      "OTC\n",
      "\n",
      " Newsletter\n",
      "Discover Tomorrow's Winners \n",
      "\n",
      "For Immediate Release\n",
      "\n",
      "Cal-Bay (Stock Symbol: CBYI)\n",
      "Watch for analyst \"Strong Buy Recommendations\" and several advisory newsletters picking CBYI.  CBYI has filed to be traded on the OTCBB, share prices historically INCREASE when companies get listed on this larger trading exchange. CBYI is trading around 25 cents and should skyrocket to $2.66 - $3.25 a share in the near future.\n",
      "Put CBYI on your watch list, acquire a position TODAY.\n",
      "\n",
      "REASONS TO INVEST IN CBYI\n",
      "\n",
      "A profitable company and is on track to beat ALL earnings estimates!\n",
      "\n",
      "One of the FASTEST growing distributors in environmental & safety equipment instruments.\n",
      "\n",
      "Excellent management team, several EXCLUSIVE contracts.  IMPRESSIVE client list including the U.S. Air Force, Anheuser-Busch, Chevron Refining and Mitsubishi Heavy Industries, GE-Energy & Environmental Research.\n",
      "\n",
      "RAPIDLY GROWING INDUSTRY\n",
      "Industry revenues exceed $900 million, estimates indicate that there could be as much as\n"
     ]
    }
   ],
   "source": [
    "html_spam_emails = [email for email in X_train[y_train==1] if get_email_structure(email) == \"text/html\"]\n",
    "sample_html_spam = html_spam_emails[7]\n",
    "print(html_to_plain_text(sample_html_spam.get_content())[:1000])"
   ]
  },
  {
   "cell_type": "markdown",
   "id": "c72e27de-69dc-44eb-b807-1648aa9d2136",
   "metadata": {},
   "source": [
    "**Convert any email format to text**"
   ]
  },
  {
   "cell_type": "code",
   "execution_count": 19,
   "id": "1a5f5d10-1686-4b2c-848d-c899c7369eeb",
   "metadata": {},
   "outputs": [],
   "source": [
    "def email_to_text(email):\n",
    "    html = None\n",
    "    for part in email.walk():\n",
    "        ctype = part.get_content_type()\n",
    "        if not ctype in (\"text/plain\", \"text/html\"):\n",
    "            continue\n",
    "        try:\n",
    "            content = part.get_content()\n",
    "        except: # in case of encoding issues\n",
    "            content = str(part.get_payload())\n",
    "        if ctype == \"text/plain\":\n",
    "            return content\n",
    "        else:\n",
    "            html = content\n",
    "    if html:\n",
    "        return html_to_plain_text(html)"
   ]
  },
  {
   "cell_type": "code",
   "execution_count": 20,
   "id": "6456bb49-1acc-4af4-938a-8cbcc8e13823",
   "metadata": {},
   "outputs": [
    {
     "name": "stdout",
     "output_type": "stream",
     "text": [
      "\n",
      "\n",
      "\n",
      "OTC\n",
      "\n",
      " Newsletter\n",
      "Discover Tomorrow's Winners \n",
      "\n",
      "For Immediate Release\n",
      "\n",
      "Cal-Bay (Stock Symbol: CBYI)\n",
      "Watch for analyst \"Strong Buy Recommendations\" and several advisory newsletters picking CBYI.  CBYI has filed to be traded on the OTCBB, share prices historically INCREASE when companies get listed on this larger trading exchange. CBYI is trading around 25 cents and should skyrocket to $2.66 - $3.25 a share in the near future.\n",
      "Put CBYI on your watch list, acquire a position TODAY.\n",
      "\n",
      "REASONS TO INVEST IN CBYI\n",
      "\n",
      "A profitable company and is on track to beat ALL earnings estimates!\n",
      "\n",
      "One of the FASTEST growing distributors in environmental & safety equipment instruments.\n",
      "\n",
      "Excellent management team, several EXCLUSIVE contracts.  IMPRESSIVE client list including the U.S. Air Force, Anheuser-Busch, Chevron Refining and Mitsubishi Heavy Industries, GE-Energy & Environmental Research.\n",
      "\n",
      "RAPIDLY GROWING INDUSTRY\n",
      "Industry revenues exceed $900 million, estimates indicate that there could be as much as\n"
     ]
    }
   ],
   "source": [
    "print(email_to_text(sample_html_spam)[:1000])"
   ]
  },
  {
   "cell_type": "markdown",
   "id": "e4937c5b-834e-4977-b246-922a0ddc3a52",
   "metadata": {},
   "source": [
    "#### Stemming Process\n",
    "Stemming: natural language processing technique that is used to reduce words to their base form.\n",
    "\n",
    "We will use the Natural Language Toolkit (NLTK)"
   ]
  },
  {
   "cell_type": "code",
   "execution_count": 21,
   "id": "b7ab670e-91ab-4672-96c4-74ea86fa8bb1",
   "metadata": {},
   "outputs": [
    {
     "name": "stdout",
     "output_type": "stream",
     "text": [
      "Computations => comput\n",
      "Computation => comput\n",
      "Computing => comput\n",
      "Computed => comput\n",
      "Compute => comput\n",
      "Compulsive => compuls\n"
     ]
    }
   ],
   "source": [
    "import nltk\n",
    "\n",
    "stemmer = nltk.PorterStemmer()\n",
    "for word in (\"Computations\", \"Computation\", \"Computing\", \"Computed\", \"Compute\", \"Compulsive\"):\n",
    "    print(word, \"=>\", stemmer.stem(word))"
   ]
  },
  {
   "cell_type": "markdown",
   "id": "0ba9501b-3542-4a5b-95b4-5a0be66086b4",
   "metadata": {},
   "source": [
    "**Replacing URLs with the word \"URL\"**"
   ]
  },
  {
   "cell_type": "code",
   "execution_count": 74,
   "id": "97ffc13c-f001-43ac-971f-6040333cd134",
   "metadata": {},
   "outputs": [
    {
     "name": "stdout",
     "output_type": "stream",
     "text": [
      "Note: you may need to restart the kernel to use updated packages.\n"
     ]
    }
   ],
   "source": [
    "%pip install -q -U urlextract"
   ]
  },
  {
   "cell_type": "code",
   "execution_count": 22,
   "id": "c2a994db-a476-4a0b-8d3d-c2d95145c8dc",
   "metadata": {},
   "outputs": [
    {
     "name": "stdout",
     "output_type": "stream",
     "text": [
      "['github.com', 'https://youtube.com/7Pq-S557XQU?t=3m32s']\n"
     ]
    }
   ],
   "source": [
    "import urlextract # may require an Internet connection to download root domain names\n",
    "\n",
    "url_extractor = urlextract.URLExtract()\n",
    "some_text = \"Will it detect github.com and https://youtube.com/7Pq-S557XQU?t=3m32s\"\n",
    "print(url_extractor.find_urls(some_text))"
   ]
  },
  {
   "cell_type": "markdown",
   "id": "b99f3855-b91e-4643-8dc7-a0e6854cbdf4",
   "metadata": {},
   "source": [
    "The transformer that is created below is used to convert emails to word counters. We split sentences into words using Python's `split()` method, which uses whitespaces for word boundaries. It's rather useless if the languages don't use spaces between words, such as Chinese and Japanese. The dataset used here is mostly in English"
   ]
  },
  {
   "cell_type": "code",
   "execution_count": 24,
   "id": "85fa490f-06b2-464b-babf-f2eb9f665e88",
   "metadata": {},
   "outputs": [],
   "source": [
    "import re\n",
    "from sklearn.base import BaseEstimator, TransformerMixin\n",
    "\n",
    "class EmailToWordCounterTransformer(BaseEstimator, TransformerMixin):\n",
    "    def __init__(self, strip_headers=True, lower_case=True, remove_punctuation=True,\n",
    "                 replace_urls=True, replace_numbers=True, stemming=True):\n",
    "        self.strip_headers = strip_headers\n",
    "        self.lower_case = lower_case\n",
    "        self.remove_punctuation = remove_punctuation\n",
    "        self.replace_urls = replace_urls\n",
    "        self.replace_numbers = replace_numbers\n",
    "        self.stemming = stemming\n",
    "    def fit(self, X, y=None):\n",
    "        return self\n",
    "    def transform(self, X, y=None):\n",
    "        X_transformed = []\n",
    "        for email in X:\n",
    "            text = email_to_text(email) or \"\"\n",
    "            if self.lower_case:\n",
    "                text = text.lower()\n",
    "            if self.replace_urls and url_extractor is not None:\n",
    "                urls = list(set(url_extractor.find_urls(text)))\n",
    "                urls.sort(key=lambda url: len(url), reverse=True)\n",
    "                for url in urls:\n",
    "                    text = text.replace(url, \" URL \")\n",
    "            if self.replace_numbers:\n",
    "                text = re.sub(r'\\d+(?:\\.\\d*)?(?:[eE][+-]?\\d+)?', 'NUMBER', text)\n",
    "            if self.remove_punctuation:\n",
    "                text = re.sub(r'\\W+', ' ', text, flags=re.M)\n",
    "            word_counts = Counter(text.split())\n",
    "            if self.stemming and stemmer is not None:\n",
    "                stemmed_word_counts = Counter()\n",
    "                for word, count in word_counts.items():\n",
    "                    stemmed_word = stemmer.stem(word)\n",
    "                    stemmed_word_counts[stemmed_word] += count\n",
    "                word_counts = stemmed_word_counts\n",
    "            X_transformed.append(word_counts)\n",
    "        return np.array(X_transformed)"
   ]
  },
  {
   "cell_type": "code",
   "execution_count": 26,
   "id": "4b2abb54-bdc6-4ecd-9dce-695263ef78d2",
   "metadata": {},
   "outputs": [
    {
     "data": {
      "text/plain": [
       "array([Counter({'chuck': 1, 'murcko': 1, 'wrote': 1, 'stuff': 1, 'yawn': 1, 'r': 1}),\n",
       "       Counter({'the': 11, 'of': 9, 'and': 8, 'all': 3, 'christian': 3, 'to': 3, 'by': 3, 'jefferson': 2, 'i': 2, 'have': 2, 'superstit': 2, 'one': 2, 'on': 2, 'been': 2, 'ha': 2, 'half': 2, 'rogueri': 2, 'teach': 2, 'jesu': 2, 'some': 1, 'interest': 1, 'quot': 1, 'url': 1, 'thoma': 1, 'examin': 1, 'known': 1, 'word': 1, 'do': 1, 'not': 1, 'find': 1, 'in': 1, 'our': 1, 'particular': 1, 'redeem': 1, 'featur': 1, 'they': 1, 'are': 1, 'alik': 1, 'found': 1, 'fabl': 1, 'mytholog': 1, 'million': 1, 'innoc': 1, 'men': 1, 'women': 1, 'children': 1, 'sinc': 1, 'introduct': 1, 'burnt': 1, 'tortur': 1, 'fine': 1, 'imprison': 1, 'what': 1, 'effect': 1, 'thi': 1, 'coercion': 1, 'make': 1, 'world': 1, 'fool': 1, 'other': 1, 'hypocrit': 1, 'support': 1, 'error': 1, 'over': 1, 'earth': 1, 'six': 1, 'histor': 1, 'american': 1, 'john': 1, 'e': 1, 'remsburg': 1, 'letter': 1, 'william': 1, 'short': 1, 'again': 1, 'becom': 1, 'most': 1, 'pervert': 1, 'system': 1, 'that': 1, 'ever': 1, 'shone': 1, 'man': 1, 'absurd': 1, 'untruth': 1, 'were': 1, 'perpetr': 1, 'upon': 1, 'a': 1, 'larg': 1, 'band': 1, 'dupe': 1, 'import': 1, 'led': 1, 'paul': 1, 'first': 1, 'great': 1, 'corrupt': 1}),\n",
       "       Counter({'url': 4, 's': 3, 'group': 3, 'to': 3, 'in': 2, 'forteana': 2, 'martin': 2, 'an': 2, 'and': 2, 'we': 2, 'is': 2, 'yahoo': 2, 'unsubscrib': 2, 'y': 1, 'adamson': 1, 'wrote': 1, 'for': 1, 'altern': 1, 'rather': 1, 'more': 1, 'factual': 1, 'base': 1, 'rundown': 1, 'on': 1, 'hamza': 1, 'career': 1, 'includ': 1, 'hi': 1, 'belief': 1, 'that': 1, 'all': 1, 'non': 1, 'muslim': 1, 'yemen': 1, 'should': 1, 'be': 1, 'murder': 1, 'outright': 1, 'know': 1, 'how': 1, 'unbias': 1, 'memri': 1, 'don': 1, 't': 1, 'html': 1, 'rob': 1, 'sponsor': 1, 'number': 1, 'dvd': 1, 'free': 1, 'p': 1, 'join': 1, 'now': 1, 'from': 1, 'thi': 1, 'send': 1, 'email': 1, 'egroup': 1, 'com': 1, 'your': 1, 'use': 1, 'of': 1, 'subject': 1})],\n",
       "      dtype=object)"
      ]
     },
     "execution_count": 26,
     "metadata": {},
     "output_type": "execute_result"
    }
   ],
   "source": [
    "X_few = X_train[:3]\n",
    "X_few_word_counts = EmailToWordCounterTransformer().fit_transform(X_few)\n",
    "X_few_word_counts"
   ]
  },
  {
   "cell_type": "markdown",
   "id": "486a1126-5ad5-4919-8e6e-10d0a80e43a1",
   "metadata": {},
   "source": [
    "**Convert the word counts to the vectors**"
   ]
  },
  {
   "cell_type": "code",
   "execution_count": 27,
   "id": "ff0c2793-90da-43e9-a2aa-7597c80388b1",
   "metadata": {},
   "outputs": [],
   "source": [
    "from scipy.sparse import csr_matrix\n",
    "\n",
    "class WordCounterToVectorTransformer(BaseEstimator, TransformerMixin):\n",
    "    def __init__(self, vocabulary_size=1000):\n",
    "        self.vocabulary_size = vocabulary_size\n",
    "    def fit(self, X, y=None):\n",
    "        total_count = Counter()\n",
    "        for word_count in X:\n",
    "            for word, count in word_count.items():\n",
    "                total_count[word] += min(count, 10)\n",
    "        most_common = total_count.most_common()[:self.vocabulary_size]\n",
    "        self.vocabulary_ = {word: index+1 for index, (word, count) in enumerate(most_common)}\n",
    "        return self\n",
    "    def transform(self, X, y=None):\n",
    "        rows = []\n",
    "        cols = []\n",
    "        data = []\n",
    "        for row, word_count in enumerate(X):\n",
    "            for word, count in word_count.items():\n",
    "                rows.append(row)\n",
    "                cols.append(self.vocabulary_.get(word, 0))\n",
    "                data.append(count)\n",
    "        return csr_matrix((data, (rows, cols)), shape=(len(X), self.vocabulary_size + 1))"
   ]
  },
  {
   "cell_type": "code",
   "execution_count": 30,
   "id": "61333b81-1851-4aea-88d3-3cd54fe2b37c",
   "metadata": {},
   "outputs": [
    {
     "data": {
      "text/plain": [
       "<Compressed Sparse Row sparse matrix of dtype 'int64'\n",
       "\twith 20 stored elements and shape (3, 11)>"
      ]
     },
     "execution_count": 30,
     "metadata": {},
     "output_type": "execute_result"
    }
   ],
   "source": [
    "vocab_transformer = WordCounterToVectorTransformer(vocabulary_size=10)\n",
    "X_few_vectors = vocab_transformer.fit_transform(X_few_word_counts)\n",
    "X_few_vectors"
   ]
  },
  {
   "cell_type": "code",
   "execution_count": 31,
   "id": "8623d693-54b2-4b17-aac0-205e8c86b52f",
   "metadata": {},
   "outputs": [
    {
     "data": {
      "text/plain": [
       "array([[ 6,  0,  0,  0,  0,  0,  0,  0,  0,  0,  0],\n",
       "       [99, 11,  9,  8,  3,  1,  3,  1,  3,  2,  3],\n",
       "       [67,  0,  1,  2,  3,  4,  1,  2,  0,  1,  0]])"
      ]
     },
     "execution_count": 31,
     "metadata": {},
     "output_type": "execute_result"
    }
   ],
   "source": [
    "X_few_vectors.toarray()"
   ]
  },
  {
   "cell_type": "markdown",
   "id": "9f0108ce-49a1-4190-babd-248f168e5a9a",
   "metadata": {},
   "source": [
    "The 99 in the (2, 1) means that the second email contains 99 words that are not part of the vocabulary. The 11 next to it means that the first word in the vocabulary is present 11 times in this email. The 9 next to it means that the second word is present 9 times, and so on."
   ]
  },
  {
   "cell_type": "code",
   "execution_count": 32,
   "id": "0f379c4d-05c8-489d-bea3-d85152324551",
   "metadata": {},
   "outputs": [
    {
     "data": {
      "text/plain": [
       "{'the': 1,\n",
       " 'of': 2,\n",
       " 'and': 3,\n",
       " 'to': 4,\n",
       " 'url': 5,\n",
       " 'all': 6,\n",
       " 'in': 7,\n",
       " 'christian': 8,\n",
       " 'on': 9,\n",
       " 'by': 10}"
      ]
     },
     "execution_count": 32,
     "metadata": {},
     "output_type": "execute_result"
    }
   ],
   "source": [
    "vocab_transformer.vocabulary_"
   ]
  },
  {
   "cell_type": "markdown",
   "id": "681d8fb5-3b6c-4064-ac49-a5f73eda4d23",
   "metadata": {},
   "source": [
    "## Modelling"
   ]
  },
  {
   "cell_type": "code",
   "execution_count": 33,
   "id": "f50c4c45-3aa0-49df-8e70-00942254bc5c",
   "metadata": {},
   "outputs": [],
   "source": [
    "from sklearn.pipeline import Pipeline\n",
    "\n",
    "preprocess_pipeline = Pipeline([\n",
    "    (\"email_to_wordcount\", EmailToWordCounterTransformer()),\n",
    "    (\"wordcount_to_vector\", WordCounterToVectorTransformer()),\n",
    "])\n",
    "\n",
    "X_train_transformed = preprocess_pipeline.fit_transform(X_train)"
   ]
  },
  {
   "cell_type": "code",
   "execution_count": 34,
   "id": "e7588bf2-d1d6-481b-9c18-0e13aa3aff01",
   "metadata": {},
   "outputs": [
    {
     "data": {
      "text/plain": [
       "np.float64(0.9841666666666665)"
      ]
     },
     "execution_count": 34,
     "metadata": {},
     "output_type": "execute_result"
    }
   ],
   "source": [
    "from sklearn.linear_model import LogisticRegression\n",
    "from sklearn.model_selection import cross_val_score\n",
    "\n",
    "log_clf = LogisticRegression(max_iter=1000, random_state=42)\n",
    "score = cross_val_score(log_clf, X_train_transformed, y_train, cv=3)\n",
    "score.mean()"
   ]
  },
  {
   "cell_type": "code",
   "execution_count": 35,
   "id": "c324e037-392c-4b4a-8159-6dc048e67888",
   "metadata": {},
   "outputs": [
    {
     "name": "stdout",
     "output_type": "stream",
     "text": [
      "Precision: 93.94%\n",
      "Recall: 97.89%\n"
     ]
    }
   ],
   "source": [
    "from sklearn.metrics import precision_score, recall_score\n",
    "\n",
    "X_test_transformed = preprocess_pipeline.transform(X_test)\n",
    "\n",
    "log_clf = LogisticRegression(max_iter=1000, random_state=42)\n",
    "log_clf.fit(X_train_transformed, y_train)\n",
    "\n",
    "y_pred = log_clf.predict(X_test_transformed)\n",
    "\n",
    "print(f\"Precision: {precision_score(y_test, y_pred):.2%}\")\n",
    "print(f\"Recall: {recall_score(y_test, y_pred):.2%}\")"
   ]
  },
  {
   "cell_type": "code",
   "execution_count": 36,
   "id": "f68674fe-c494-4db3-a925-705f9c47b1fa",
   "metadata": {},
   "outputs": [
    {
     "data": {
      "text/plain": [
       "['spam_model.pkl']"
      ]
     },
     "execution_count": 36,
     "metadata": {},
     "output_type": "execute_result"
    }
   ],
   "source": [
    "import joblib\n",
    "joblib.dump(log_clf, \"spam_model.pkl\")"
   ]
  },
  {
   "cell_type": "code",
   "execution_count": null,
   "id": "e8070d71-238e-47c3-94a5-aa987788ecb1",
   "metadata": {},
   "outputs": [],
   "source": []
  }
 ],
 "metadata": {
  "kernelspec": {
   "display_name": "Python 3 (ipykernel)",
   "language": "python",
   "name": "python3"
  },
  "language_info": {
   "codemirror_mode": {
    "name": "ipython",
    "version": 3
   },
   "file_extension": ".py",
   "mimetype": "text/x-python",
   "name": "python",
   "nbconvert_exporter": "python",
   "pygments_lexer": "ipython3",
   "version": "3.11.11"
  }
 },
 "nbformat": 4,
 "nbformat_minor": 5
}
